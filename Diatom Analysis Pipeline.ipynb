{
 "cells": [
  {
   "cell_type": "markdown",
   "metadata": {},
   "source": [
    "### Diatom Analysis Pipeline - OTU\n",
    "\n",
    "#### A notebook  for the diatom analysis pipeline using OTU classification."
   ]
  },
  {
   "cell_type": "markdown",
   "metadata": {},
   "source": [
    "### 1. Create BLAST reference database"
   ]
  },
  {
   "cell_type": "code",
   "execution_count": null,
   "metadata": {},
   "outputs": [],
   "source": [
    "%%time\n",
    "!makeblastdb -in diatoms.sequences.FINAL2017.fasta -out diatoms -dbtype nucl"
   ]
  },
  {
   "cell_type": "markdown",
   "metadata": {},
   "source": [
    "### 2. Quality Control\n",
    "* *Cutadapt:* Trim primers from sequences\n",
    "* *SicklePE:* Trim off bad quality 3' bases\n",
    "* *Pear:* Merge R1 and R2 reads\n",
    "* *SickleSE:* Remove post-merging bad quality sequences\n",
    "* *Histogram Generation:* Plots sequence length against number of sequences\n",
    "* *QIIME Prep:* Pepare passed QC files for QIIME processing"
   ]
  },
  {
   "cell_type": "code",
   "execution_count": null,
   "metadata": {},
   "outputs": [],
   "source": [
    "%%time\n",
    "!python ./ampliconQC.py --data sequences --forward ATGCGTTGGAGAGARCGTTTC --reverse GATCACCTTCTAATTTACCWACAACTG --threads 8 --histograms --qiime"
   ]
  },
  {
   "cell_type": "markdown",
   "metadata": {},
   "source": [
    "### 3. Generate sequence counts file used in final step to produce reports"
   ]
  },
  {
   "cell_type": "code",
   "execution_count": null,
   "metadata": {},
   "outputs": [],
   "source": [
    "%%time\n",
    "!for file in sequences/*.passedQC.fastq; \\\n",
    "do \\\n",
    "  awk 'NR%4==2{sum+=1}END{print FILENAME,sum}' $file >> sequences/diatomSequenceCounts.txt; \\\n",
    "done"
   ]
  },
  {
   "cell_type": "markdown",
   "metadata": {},
   "source": [
    "### 4. Assign similar sequences to OTUs using user-defined similarity threshold"
   ]
  },
  {
   "cell_type": "code",
   "execution_count": null,
   "metadata": {},
   "outputs": [],
   "source": [
    "%%time\n",
    "!pick_otus.py -i sequences/readyForQiime.allsamples.fasta -o sequences/picked_otus_97"
   ]
  },
  {
   "cell_type": "markdown",
   "metadata": {},
   "source": [
    "###  5. Pick a representative set of sequences. For each OTU, one sequence will be used in subsequent analysis"
   ]
  },
  {
   "cell_type": "code",
   "execution_count": null,
   "metadata": {},
   "outputs": [],
   "source": [
    "%%time\n",
    "!pick_rep_set.py -i sequences/picked_otus_97/readyForQiime.allsamples_otus.txt \\\n",
    "  -f sequences/readyForQiime.allsamples.fasta \\\n",
    "  -o sequences/repset.fasta"
   ]
  },
  {
   "cell_type": "markdown",
   "metadata": {},
   "source": [
    "### 6. Query BLAST database with OTU representatives"
   ]
  },
  {
   "cell_type": "code",
   "execution_count": null,
   "metadata": {},
   "outputs": [],
   "source": [
    "%%time\n",
    "!blastn -db diatoms -query sequences/repset.fasta \\\n",
    "  -out sequences/repset.diatoms.blastn \\\n",
    "  -task blastn -max_target_seqs 1 -num_threads 8 -outfmt 6 -evalue 0.01"
   ]
  },
  {
   "cell_type": "code",
   "execution_count": null,
   "metadata": {},
   "outputs": [],
   "source": [
    "!mkdir sequences/assigned_taxonomy"
   ]
  },
  {
   "cell_type": "markdown",
   "metadata": {},
   "source": [
    "### 7. Create taxonomy assignments from BLAST outputs"
   ]
  },
  {
   "cell_type": "code",
   "execution_count": null,
   "metadata": {},
   "outputs": [],
   "source": [
    "%%time\n",
    "!python ./create_taxonomy_assignments_from_blast.py --taxonomy diatoms.taxonomy.FINAL2017.txt \\\n",
    "  --percid 95.0 --blast sequences/repset.diatoms.blastn --output sequences/assigned_taxonomy/repset.taxonomy.txt "
   ]
  },
  {
   "cell_type": "markdown",
   "metadata": {},
   "source": [
    "### 8. Reports how often an OTU is found in each sample and adds the taxonomic predictions for each OTU"
   ]
  },
  {
   "cell_type": "code",
   "execution_count": null,
   "metadata": {},
   "outputs": [],
   "source": [
    "%%time\n",
    "!make_otu_table.py -i sequences/picked_otus_97/readyForQiime.allsamples_otus.txt \\\n",
    "  -t sequences/assigned_taxonomy/repset.taxonomy.txt \\\n",
    "  -o sequences/otu_table.biom"
   ]
  },
  {
   "cell_type": "markdown",
   "metadata": {},
   "source": [
    "### 9. Filters an OTU table based on taxonomic metadata excluding specific taxa"
   ]
  },
  {
   "cell_type": "code",
   "execution_count": null,
   "metadata": {},
   "outputs": [],
   "source": [
    "%%time\n",
    "!filter_taxa_from_otu_table.py -i sequences/otu_table.biom \\\n",
    "  -o sequences/otu_table.diatomsonly.biom \\\n",
    "  -n MARINE,NOT_DIATOM,Yellow_green_Algae,None"
   ]
  },
  {
   "cell_type": "markdown",
   "metadata": {},
   "source": [
    "### 10. Sort OTU table by sample id"
   ]
  },
  {
   "cell_type": "code",
   "execution_count": null,
   "metadata": {},
   "outputs": [],
   "source": [
    "%%time\n",
    "!sort_otu_table.py -i sequences/otu_table.diatomsonly.biom \\\n",
    "  -o sequences/otu_table.diatomsonly.biom"
   ]
  },
  {
   "cell_type": "markdown",
   "metadata": {},
   "source": [
    "### 11. Summary information of the representation of taxonomic groups within each sample"
   ]
  },
  {
   "cell_type": "code",
   "execution_count": null,
   "metadata": {},
   "outputs": [],
   "source": [
    "%%time\n",
    "!summarize_taxa.py -L 1 \\\n",
    "  -i sequences/otu_table.diatomsonly.biom \\\n",
    "  -o sequences/visualised_taxonomy -a"
   ]
  },
  {
   "cell_type": "markdown",
   "metadata": {},
   "source": [
    "### 12. Produce Diatom reports"
   ]
  },
  {
   "cell_type": "code",
   "execution_count": null,
   "metadata": {},
   "outputs": [],
   "source": [
    "%%time\n",
    "!python ./produceDiatomReports.py --folder sequences --lookup lookuptable.txt"
   ]
  },
  {
   "cell_type": "markdown",
   "metadata": {},
   "source": [
    "### 13. Inspect producted Diatom reports"
   ]
  },
  {
   "cell_type": "code",
   "execution_count": null,
   "metadata": {},
   "outputs": [],
   "source": [
    "import pandas as pd"
   ]
  },
  {
   "cell_type": "code",
   "execution_count": null,
   "metadata": {},
   "outputs": [],
   "source": [
    "pd.read_csv('sequences/Abundances.fail.csv')"
   ]
  },
  {
   "cell_type": "code",
   "execution_count": null,
   "metadata": {},
   "outputs": [],
   "source": [
    "pd.read_csv('sequences/Abundances.pass.csv')"
   ]
  }
 ],
 "metadata": {
  "kernelspec": {
   "display_name": "Python 2",
   "language": "python",
   "name": "python2"
  },
  "language_info": {
   "codemirror_mode": {
    "name": "ipython",
    "version": 3
   },
   "file_extension": ".py",
   "mimetype": "text/x-python",
   "name": "python",
   "nbconvert_exporter": "python",
   "pygments_lexer": "ipython3",
   "version": "3.6.8"
  }
 },
 "nbformat": 4,
 "nbformat_minor": 2
}
